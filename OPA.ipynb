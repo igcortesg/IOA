{
  "cells": [
    {
      "cell_type": "markdown",
      "metadata": {
        "id": "view-in-github",
        "colab_type": "text"
      },
      "source": [
        "<a href=\"https://colab.research.google.com/github/igcortesg/IOA/blob/main/OPA.ipynb\" target=\"_parent\"><img src=\"https://colab.research.google.com/assets/colab-badge.svg\" alt=\"Open In Colab\"/></a>"
      ]
    },
    {
      "cell_type": "markdown",
      "metadata": {
        "id": "mQMMWm1d149K"
      },
      "source": [
        "# Informacion del Problema"
      ]
    },
    {
      "cell_type": "markdown",
      "metadata": {
        "id": "tMet0SfwMIx9"
      },
      "source": [
        "El problema de Ubicación de Instalaciones con Capacitación (CFLP por sus siglas en inglés) es un modelo matemático utilizado para determinar el mejor lugar para abrir nuevas instalaciones o expandir existentes, teniendo en cuenta restricciones como costos de construcción, capacidades limitadas y demanda. Vamos a explorar el problema Single Source CFLP y su solución óptima, así como cómo se extiende al caso Multi-Source CFLP.\n",
        "Problema Single Source CFLP\n",
        "\n",
        "El problema Single Source CFLP tiene las siguientes características:\n",
        "\n",
        "    Un solo origen de suministro\n",
        "    Una serie de clientes con demandas conocidas\n",
        "    Un conjunto de posibles ubicaciones para instalar facilidades\n",
        "    Costos de construir instalaciones\n",
        "    Capacidades limitadas para cada instalación\n",
        "    Demanda total que debe ser atendida\n",
        "\n",
        "La función objetivo generalmente busca minimizar los costos totales de construir instalaciones y transportar productos a los clientes.\n",
        "Solución óptima del Single Source CFLP\n",
        "\n",
        "Para encontrar la solución óptima del Single Source CFLP, se utilizan técnicas de programación lineal entera. Algunas estrategias comunes incluyen:\n",
        "\n",
        "    Formulación matemática precisa del problema\n",
        "    Uso de métodos heurísticos para problemas grandes\n",
        "    Aplicación de algoritmos exactos para problemas más pequeños\n",
        "\n",
        "La solución óptima garantiza que:\n",
        "\n",
        "    Se cumplan todas las restricciones (capacidad, demanda, etc.)\n",
        "    Se minimice el costo total\n",
        "    Se maximice la eficiencia en la asignación de clientes a instalaciones\n",
        "\n",
        "Extensión al Multi-Source CFLP\n",
        "\n",
        "El Multi-Source CFLP es una versión extendida del problema que incorpora múltiples fuentes de suministro. Las principales diferencias son:\n",
        "\n",
        "    Múltiples orígenes de suministro con diferentes precios de producción\n",
        "    Posibilidad de utilizar múltiples fuentes para atender la misma demanda\n",
        "    Consideración adicional de costos de producción y transporte desde diferentes fuentes\n",
        "\n",
        "Solución óptima del Multi-Source CFLP\n",
        "\n",
        "Para resolver el Multi-Source CFLP, se requieren técnicas más avanzadas debido a la complejidad añadida:\n",
        "\n",
        "    Formulación matemática más elaborada que incluye múltiples fuentes de suministro\n",
        "    Uso de métodos aproximados como aproximaciones lineales o programación cuádratica\n",
        "    Técnicas de programación entera mixta para manejar múltiples decisiones binarias y contínuas\n",
        "\n",
        "La solución óptima del Multi-Source CFLP debe considerar:\n",
        "\n",
        "    La elección óptima entre diferentes fuentes de suministro para cada cliente\n",
        "    La asignación eficiente de clientes a instalaciones\n",
        "    El equilibrio entre costos de producción, transporte y construcción\n",
        "\n",
        "En resumen, mientras que el Single Source CFLP es un problema bien definido, el Multi-Source CFLP introduce una dimensión adicional de complejidad que requiere técnicas más sofisticadas para encontrar la solución óptima. Ambos problemas son fundamentales en la teoría de la ubicación y tienen aplicaciones prácticas importantes en diversos campos industriales y logísticos."
      ]
    },
    {
      "cell_type": "markdown",
      "metadata": {
        "id": "v4DPRt4f2iEU"
      },
      "source": [
        "# Importar Carpeta"
      ]
    },
    {
      "cell_type": "code",
      "execution_count": null,
      "metadata": {
        "colab": {
          "base_uri": "https://localhost:8080/"
        },
        "id": "qEK9K7Ys2uFC",
        "outputId": "1e7a0f2b-19d0-4093-fccc-1ca847ee6c20"
      },
      "outputs": [
        {
          "output_type": "stream",
          "name": "stdout",
          "text": [
            "\u001b[2K   \u001b[90m━━━━━━━━━━━━━━━━━━━━━━━━━━━━━━━━━━━━━━━━\u001b[0m \u001b[32m5.6/5.6 MB\u001b[0m \u001b[31m23.2 MB/s\u001b[0m eta \u001b[36m0:00:00\u001b[0m\n",
            "\u001b[?25h"
          ]
        }
      ],
      "source": [
        "%pip install -q amplpy"
      ]
    },
    {
      "cell_type": "code",
      "execution_count": null,
      "metadata": {
        "id": "1IstUOz_2u9H"
      },
      "outputs": [],
      "source": [
        "import pandas as pd\n",
        "from google.colab import userdata\n",
        "import random"
      ]
    },
    {
      "cell_type": "code",
      "execution_count": null,
      "metadata": {
        "colab": {
          "base_uri": "https://localhost:8080/"
        },
        "id": "wT4cE9fi2vhU",
        "outputId": "c6c0bd80-35ce-4273-fd7a-ac4bfc66fe20"
      },
      "outputs": [
        {
          "output_type": "stream",
          "name": "stdout",
          "text": [
            "Licensed to Bundle #6733.7184 expiring 20241231: ICI5142-01 INVESTIGACION DE OPERACIONES AVANZADAS (Advanced Operations Research), Prof. Guillermo Cabrera-Guerrero, Pontificia Universidad Catolica de Valparaiso.\n"
          ]
        }
      ],
      "source": [
        "from amplpy import AMPL, ampl_notebook\n",
        "ampl = ampl_notebook(\n",
        "    modules=\"gurobi\", # modules to install\n",
        "    license_uuid='bb2c71f6-2b4c-4570-8eaf-4db0b0d7349a') # license to use"
      ]
    },
    {
      "cell_type": "markdown",
      "metadata": {
        "id": "lsNk49o424Fp"
      },
      "source": [
        "# Funciones Importar Archivos\n"
      ]
    },
    {
      "cell_type": "code",
      "execution_count": null,
      "metadata": {
        "id": "VD6PC4JX3YLC"
      },
      "outputs": [],
      "source": [
        "# Funcion para importar un archivo de texto tipo capXX.txt\n",
        "\n",
        "\n",
        "def importarCap(ruta):\n",
        "    with open(ruta, 'r') as file:\n",
        "        content = file.read().split()\n",
        "    tiendas = int(content[0])\n",
        "    clientes = int(content[1])\n",
        "\n",
        "    oferta = []\n",
        "    precioF = []\n",
        "    for i in range(2, tiendas*2+2, 2):\n",
        "        oferta.append(int(content[i]))\n",
        "        precioF.append(float(content[i+1]))\n",
        "\n",
        "    # inicio represent where it start the matrix of clients\n",
        "    inicio = (tiendas*2)+2\n",
        "    demanda = []\n",
        "    costoV = []\n",
        "\n",
        "    for i in range(inicio, inicio+(tiendas+1)*clientes, tiendas+1):\n",
        "        demanda.append(int(content[i]))\n",
        "        fila = []\n",
        "        for j in range(i+1, i+tiendas+1):\n",
        "            fila.append(float(content[j]))\n",
        "        costoV.append(fila)\n",
        "\n",
        "    return tiendas, clientes, oferta, precioF, demanda, costoV\n"
      ]
    },
    {
      "cell_type": "code",
      "execution_count": null,
      "metadata": {
        "id": "GxBUoGLK3Yzo"
      },
      "outputs": [],
      "source": [
        "# Funcion para importar un archivo de texto tipo numxnum.txt\n",
        "def importarNumxNum(ruta):\n",
        "    with open(ruta, 'r') as file:\n",
        "        lines = file.readlines()\n",
        "\n",
        "    # Extract the number of shops and customers from the first line\n",
        "    tiendas, clientes = map(int, lines[0].split())\n",
        "\n",
        "    # Find the separators and parse each section\n",
        "    section_indices = [i for i, line in enumerate(\n",
        "        lines) if line.strip() == '*']\n",
        "\n",
        "    # Parse shop capacities and fixed costs\n",
        "    oferta = []\n",
        "    precioF = []\n",
        "    for line in lines[section_indices[0] + 1:section_indices[1]]:\n",
        "        capacity, fixed_cost = map(float, line.split())\n",
        "        oferta.append(capacity)\n",
        "        precioF.append(fixed_cost)\n",
        "\n",
        "    # Parse customer demands\n",
        "    demanda = []\n",
        "    for line in lines[section_indices[1] + 1:section_indices[2]]:\n",
        "        demanda.append(float(line.strip()))\n",
        "\n",
        "    # Parse cost matrix\n",
        "    costoV = []\n",
        "    for line in lines[section_indices[2] + 1:]:\n",
        "        fila = list(map(float, line.split()))\n",
        "        costoV.append(fila)\n",
        "\n",
        "    # Print parsed results\n",
        "    #print(\"cantidad de tiendas \\n\" + str(tiendas))\n",
        "    #print(\"cantidad de clientes \\n\" + str(clientes))\n",
        "    #print(\"oferta\\n\" + str(oferta))\n",
        "    #print(\"precio fijo\\n\" + str(precioF))\n",
        "    #print(\"demanda\\n\" + str(demanda))\n",
        "    #print(\"Costo Variable\")\n",
        "    printMatrix(costoV)\n",
        "\n",
        "    return tiendas, clientes, oferta, precioF, demanda, costoV"
      ]
    },
    {
      "cell_type": "code",
      "execution_count": null,
      "metadata": {
        "id": "AYoKxeBr3ZcO"
      },
      "outputs": [],
      "source": [
        "# funcion para importar (elije que funcion ocupar)\n",
        "\n",
        "\n",
        "def importarArchivo(ruta):\n",
        "    if \"cap\" in ruta:\n",
        "        return importarCap(ruta)\n",
        "    if \"x\" in ruta:\n",
        "        return importarNumxNum(ruta)\n",
        "    else:\n",
        "        try:\n",
        "            raise Exception(\"No se reconoce el archivo\")\n",
        "        except Exception as e:\n",
        "            print(e)"
      ]
    },
    {
      "cell_type": "code",
      "execution_count": null,
      "metadata": {
        "id": "-0bnICKlRU3N"
      },
      "outputs": [],
      "source": [
        "# Funcion para importar un archivo de texto tipo capa.txt\n",
        "def importarCapa(ruta):\n",
        "    try:\n",
        "        with open(ruta, 'r') as file:\n",
        "            content = file.read().split()\n",
        "\n",
        "        # Leer la cantidad de tiendas y clientes\n",
        "        tiendas = int(content[0])\n",
        "        clientes = int(content[1])\n",
        "\n",
        "        print(f\"Cantidad de tiendas: {tiendas}\")\n",
        "        print(f\"Cantidad de clientes: {clientes}\")\n",
        "\n",
        "        # Leer la capacidad de cada tienda y su costo fijo\n",
        "        oferta = []\n",
        "        precioF = []\n",
        "        for i in range(2, tiendas * 2 + 2, 2):\n",
        "            oferta.append(int(content[i]))\n",
        "            precioF.append(float(content[i + 1]))\n",
        "\n",
        "        # Mostrar capacidades y costos fijos\n",
        "        print(\"Capacidades de oferta:\", oferta)\n",
        "        print(\"Costos fijos:\", precioF)\n",
        "\n",
        "        # Iniciar donde empieza la matriz de clientes\n",
        "        inicio = tiendas * 2 + 2\n",
        "\n",
        "        # Leer demandas y costos variables\n",
        "        demanda = []\n",
        "        costoV = []\n",
        "        for i in range(inicio, inicio + (clientes * (tiendas + 1)), tiendas + 1):\n",
        "            demanda.append(int(content[i]))\n",
        "            fila = [float(content[j]) for j in range(i + 1, i + tiendas + 1)]\n",
        "            costoV.append(fila)\n",
        "\n",
        "        # Mostrar demanda y matriz de costos variables\n",
        "        print(\"Demanda de clientes:\", demanda)\n",
        "        print(\"Matriz de costos variables:\")\n",
        "        for fila in costoV:\n",
        "            print(fila)\n",
        "\n",
        "        # Retornar las variables\n",
        "        return tiendas, clientes, oferta, precioF, demanda, costoV\n",
        "\n",
        "    except Exception as e:\n",
        "        print(f\"Error al leer el archivo: {e}\")\n",
        "\n"
      ]
    },
    {
      "cell_type": "markdown",
      "metadata": {
        "id": "UnkRNRRZ277O"
      },
      "source": [
        "# Funciones Auxiliares\n"
      ]
    },
    {
      "cell_type": "markdown",
      "metadata": {
        "id": "gnjjvpns28Q9"
      },
      "source": [
        "## Funciones Importantes"
      ]
    },
    {
      "cell_type": "code",
      "execution_count": null,
      "metadata": {
        "id": "oUBjhosO3l6s"
      },
      "outputs": [],
      "source": [
        "def formatoCostoV(costoV,clientes,tiendas):\n",
        "  costoV_dict = {}\n",
        "  for cliente in range(clientes):\n",
        "      for tienda in range(tiendas):\n",
        "          costoV_dict[(cliente+1, tienda+1)] = costoV[cliente][tienda]\n",
        "  return costoV_dict"
      ]
    },
    {
      "cell_type": "code",
      "execution_count": null,
      "metadata": {
        "id": "-hk5i5oG3ma8"
      },
      "outputs": [],
      "source": [
        "# funcion para acotar espacion de AMPL\n",
        "\n",
        "\n",
        "def acotarEspacio(tiendas, clientes, oferta, precioF, demanda, costoV, tiendasAbiertas):\n",
        "    tiendasR = 0\n",
        "    clientesR = clientes\n",
        "    ofertaR = []\n",
        "    precioFR = []\n",
        "    demandaR = demanda\n",
        "    # Cuenta tiendas abiertas\n",
        "    for i in range(tiendas):\n",
        "      if tiendasAbiertas[i] == 1:\n",
        "            tiendasR += 1\n",
        "    #genera costoVR como una matris de Cliente X TiendasAbiertas(solo la que tienen 1)\n",
        "    costoVR = [[0 for _ in range(tiendasR)] for _ in range(clientes)]\n",
        "    # genera tienda abiertasR rellena de 1\n",
        "    tiendasAbiertasR = [1 for _ in range(tiendasR)]\n",
        "\n",
        "    cont=0\n",
        "    for i in range(tiendas):\n",
        "        if tiendasAbiertas[i] == 1:\n",
        "            ofertaR.append(oferta[i])\n",
        "            precioFR.append(precioF[i])\n",
        "            for j in range(clientes):\n",
        "              costoVR[j][cont]=costoV[j][i]\n",
        "            cont+=1\n",
        "\n",
        "    return (tiendasR, clientesR, ofertaR, precioFR, demandaR, costoVR, tiendasAbiertasR)"
      ]
    },
    {
      "cell_type": "code",
      "execution_count": null,
      "metadata": {
        "id": "8re3x9J7OJ8M"
      },
      "outputs": [],
      "source": [
        "def evaluar(tiendas, clientes, oferta, precioF, demanda, costoV, tiendasAbiertas, tipo):\n",
        "    t, c, o, p, d, cV, ta = acotarEspacio(tiendas, clientes, oferta, precioF, demanda, costoV, tiendasAbiertas)\n",
        "    if tipo == 1:\n",
        "        return CFLP_1S(t, c, o, p, d, cV, ta)\n",
        "    if tipo == 2:\n",
        "        return CFLP_MS(t, c, o, p, d, cV, ta)"
      ]
    },
    {
      "cell_type": "markdown",
      "metadata": {
        "id": "r9Z0IECq28j1"
      },
      "source": [
        "## Funciones Weonas"
      ]
    },
    {
      "cell_type": "code",
      "execution_count": null,
      "metadata": {
        "id": "Dj8hLzR73rn5"
      },
      "outputs": [],
      "source": [
        "def largoNumero(element, width=10):\n",
        "    return f\"{element:.4f}\".ljust(width)\n"
      ]
    },
    {
      "cell_type": "code",
      "execution_count": null,
      "metadata": {
        "id": "MCiHE4aP3r4e"
      },
      "outputs": [],
      "source": [
        "# Mostrar matriz ordenada\n",
        "def printMatrix(matrix):\n",
        "\n",
        "    for fila in matrix:\n",
        "        for valor in fila:\n",
        "            print(largoNumero(valor), end=\"\\t\")\n",
        "        print()\n"
      ]
    },
    {
      "cell_type": "code",
      "execution_count": null,
      "metadata": {
        "id": "ECgS-6Dt3sNP"
      },
      "outputs": [],
      "source": [
        "# Funcion para mostrar datos\n",
        "def printData(tiendas, clientes, oferta, precioF, demanda, costoV, tiendasAbiertas):\n",
        "    print(\"Cantidad de tiendas: \" + str(tiendas))\n",
        "    print(\"Cantidad de clientes: \" + str(clientes))\n",
        "    print(\"Oferta: \" + str(oferta))\n",
        "    print(\"Precio fijo: \" + str(precioF))\n",
        "    print(\"Demanda: \" + str(demanda))\n",
        "    print(\"Costo Variable\")\n",
        "    printMatrix(costoV)\n",
        "    print(\"Tiendas abiertas: \" + str(tiendasAbiertas))"
      ]
    },
    {
      "cell_type": "code",
      "execution_count": null,
      "metadata": {
        "id": "I64NQJCkM839"
      },
      "outputs": [],
      "source": [
        "def tirarMoneda():\n",
        "    return random.choice([0, 1])\n"
      ]
    },
    {
      "cell_type": "markdown",
      "metadata": {
        "id": "LQYB2A5X28z1"
      },
      "source": [
        "# Funciones AMPL"
      ]
    },
    {
      "cell_type": "code",
      "execution_count": null,
      "metadata": {
        "id": "mOrDWH2B31dy"
      },
      "outputs": [],
      "source": [
        "# CFLP single-source 100% AMPL\n",
        "\n",
        "\n",
        "def CFLP_1S_AMPL(tiendas, clientes, oferta, precioF, demanda, costoV):\n",
        "    ampl.reset()\n",
        "    ampl.eval(\"\"\"\n",
        "    # Sets\n",
        "    set Tiendas;\n",
        "    set Clientes;\n",
        "\n",
        "    # Variables\n",
        "    var tiendaAbierta{Tiendas} binary;\n",
        "    var demandaAsociada{Clientes, Tiendas} binary;  # New binary variable to indicate assignment\n",
        "\n",
        "    # Parameters\n",
        "    param oferta{Tiendas};\n",
        "    param precioF{Tiendas};\n",
        "    param demanda{Clientes};\n",
        "    param costoV{Clientes, Tiendas};\n",
        "\n",
        "    # Objective Function\n",
        "    minimize CostoTotal:\n",
        "        sum{t in Tiendas} precioF[t] * tiendaAbierta[t] +\n",
        "        sum{c in Clientes, t in Tiendas} costoV[c, t] * demandaAsociada[c, t];\n",
        "\n",
        "    # Constraints\n",
        "    subject to satisfacerDemanda{c in Clientes}:\n",
        "        sum{t in Tiendas} demandaAsociada[c, t] = 1;  # Each customer is assigned to exactly one shop\n",
        "\n",
        "    subject to ofertaDemanda{t in Tiendas}:\n",
        "        sum{c in Clientes} demanda[c] * demandaAsociada[c, t] <= oferta[t] * tiendaAbierta[t];\n",
        "            \"\"\")\n",
        "\n",
        "    # Asignar parámetros a AMPL\n",
        "    ampl.set['Tiendas'] = range(1, tiendas+1)\n",
        "    ampl.set['Clientes'] = range(1, clientes+1)\n",
        "    ampl.param['oferta'] = {i+1: oferta[i] for i in range(tiendas)}\n",
        "    ampl.param['precioF'] = {i+1: precioF[i] for i in range(tiendas)}\n",
        "    ampl.param['demanda'] = {i+1: demanda[i] for i in range(clientes)}\n",
        "    ampl.param['costoV'] = costoV\n",
        "\n",
        "    # Especificar el solver\n",
        "    ampl.option['solver'] = 'gurobi'\n",
        "\n",
        "    # Resolver el problema\n",
        "    ampl.solve()\n",
        "\n",
        "    # Mostrar la solución\n",
        "    ampl.display('tiendaAbierta')\n",
        "    #ampl.display('demandaAsociada')\n",
        "    ampl.display('CostoTotal')\n",
        "\n"
      ]
    },
    {
      "cell_type": "code",
      "execution_count": null,
      "metadata": {
        "id": "QejI7a7z33YV"
      },
      "outputs": [],
      "source": [
        "# CFLP multy-source 100% AMPL\n",
        "def CFLP_MS_AMPL(tiendas, clientes, oferta, precioF, demanda, costoV):\n",
        "    # Crear el modelo AMPL Para MultiSource Source CFLP\n",
        "    ampl.reset()\n",
        "    ampl.eval(\"\"\"\n",
        "    # Sets\n",
        "    set Tiendas;\n",
        "    set Clientes;\n",
        "\n",
        "    # Variables\n",
        "    var tiendaAbierta{Tiendas} binary;\n",
        "    var demandaAsociada{Clientes, Tiendas} >= 0, <= 1;\n",
        "\n",
        "    # Parameters\n",
        "    param oferta{Tiendas};\n",
        "    param precioF{Tiendas};\n",
        "    param demanda{Clientes};\n",
        "    param costoV{Clientes, Tiendas};\n",
        "\n",
        "    # Objective Function\n",
        "    minimize CostoTotal:\n",
        "        sum{t in Tiendas} precioF[t] * tiendaAbierta[t] +\n",
        "        sum{c in Clientes, t in Tiendas} costoV[c, t] * demandaAsociada[c, t];\n",
        "\n",
        "    # Constraints\n",
        "    subject to satisfacerDemanda{c in Clientes}:\n",
        "        sum{t in Tiendas} demandaAsociada[c, t] = 1;  # Each customer is assigned to exactly one shop\n",
        "\n",
        "    subject to ofertaDemanda{t in Tiendas}:\n",
        "        sum{c in Clientes} demanda[c] * demandaAsociada[c, t] <= oferta[t] * tiendaAbierta[t];\n",
        "            \"\"\")\n",
        "\n",
        "    # Asignar parámetros a AMPL\n",
        "    ampl.set['Tiendas'] = range(1, tiendas+1)\n",
        "    ampl.set['Clientes'] = range(1, clientes+1)\n",
        "    ampl.param['oferta'] = {i+1: oferta[i] for i in range(tiendas)}\n",
        "    ampl.param['precioF'] = {i+1: precioF[i] for i in range(tiendas)}\n",
        "    ampl.param['demanda'] = {i+1: demanda[i] for i in range(clientes)}\n",
        "    ampl.param['costoV'] = costoV  # Asignar el diccionario de costoV\n",
        "\n",
        "    # Especificar el solver\n",
        "    ampl.option['solver'] = 'gurobi'\n",
        "\n",
        "    # Resolver el problema\n",
        "    ampl.solve()\n",
        "\n",
        "    # Mostrar la solución\n",
        "    ampl.display('tiendaAbierta')\n",
        "    ampl.display('demandaAsociada')\n",
        "    ampl.display('CostoTotal')\n",
        "    ampl.display('costoV')\n"
      ]
    },
    {
      "cell_type": "code",
      "execution_count": null,
      "metadata": {
        "id": "fg6JlCbe34W7"
      },
      "outputs": [],
      "source": [
        "def CFLP_1S(tiendas, clientes, oferta, precioF, demanda, costoV, tiendasAbiertas):\n",
        "    ampl.reset()\n",
        "    ampl.eval(\"\"\"\n",
        "    # Sets\n",
        "    set Tiendas;\n",
        "    set Clientes;\n",
        "\n",
        "    # Variables\n",
        "    var demandaAsociada{Clientes, Tiendas} binary;\n",
        "\n",
        "    # Parameters\n",
        "    param oferta{Tiendas};\n",
        "    param precioF{Tiendas};\n",
        "    param demanda{Clientes};\n",
        "    param costoV{Clientes, Tiendas};\n",
        "    param tiendaAbierta{Tiendas} binary;\n",
        "\n",
        "    # Objective Function\n",
        "    minimize CostoTotal:\n",
        "        sum{t in Tiendas} precioF[t] * tiendaAbierta[t] +\n",
        "        sum{c in Clientes, t in Tiendas} costoV[c, t] * demandaAsociada[c, t];\n",
        "\n",
        "    # Constraints\n",
        "    subject to satisfacerDemanda{c in Clientes}:\n",
        "        sum{t in Tiendas} demandaAsociada[c, t] = 1;  # Each customer is fully served\n",
        "\n",
        "    subject to ofertaDemanda{t in Tiendas}:\n",
        "        sum{c in Clientes} demanda[c] * demandaAsociada[c, t] <= oferta[t] * tiendaAbierta[t];\n",
        "\n",
        "    subject to asignarSiAbierta{c in Clientes, t in Tiendas}:\n",
        "        demandaAsociada[c, t] <= tiendaAbierta[t];\n",
        "    \"\"\")\n",
        "\n",
        "    # Assign parameters to AMPL\n",
        "    ampl.set['Tiendas'] = range(1, tiendas+1)\n",
        "    ampl.set['Clientes'] = range(1, clientes+1)\n",
        "\n",
        "    # Create a dictionary for `tiendaAbierta` to indicate open shops\n",
        "    ampl.param['tiendaAbierta'] = {t: tiendasAbiertas[t-1] for t in range(1, tiendas+1)}\n",
        "    ampl.param['oferta'] = {t: oferta[t-1] for t in range(1, tiendas+1)}\n",
        "    ampl.param['precioF'] = {t: precioF[t-1] for t in range(1, tiendas+1)}\n",
        "    ampl.param['demanda'] = {c: demanda[c-1] for c in range(1, clientes+1)}\n",
        "    ampl.param['costoV'] = {(c+1, t+1): costoV[c][t] for c in range(clientes) for t in range(tiendas)}\n",
        "\n",
        "    # Specify the solver\n",
        "    ampl.option['solver'] = 'gurobi'\n",
        "\n",
        "    # Solve the problem\n",
        "    ampl.solve()\n",
        "\n",
        "    # Display the solution\n",
        "    #ampl.display('tiendaAbierta')\n",
        "    #ampl.display('demandaAsociada')\n",
        "    #ampl.display('CostoTotal')\n",
        "\n",
        "    # Aviso solucion inviable\n",
        "    warnings = ampl.get_output(\"solve;\")\n",
        "    infeasible_constraints = []\n",
        "\n",
        "    # returns .1 if there is no viable solution\n",
        "    for line in warnings.split('\\n'):\n",
        "        if 'WARNING:' in line.upper():\n",
        "            print(\"AMPL Warning:\", line.strip())\n",
        "            return -1\n",
        "        if 'INFEASIBLE' in line.upper() or 'NO SOLUTION' in line.upper():\n",
        "            print(\"AMPL Error:\", line.strip())\n",
        "            return -1\n",
        "        if 'all variables eliminated' in line.lower() and '> 0' in line:\n",
        "            infeasible_constraints.append(line.strip())\n",
        "            return -1\n",
        "\n",
        "\n",
        "\n",
        "\n",
        "    return ampl.getValue('CostoTotal')\n",
        "\n",
        "\n"
      ]
    },
    {
      "cell_type": "code",
      "execution_count": null,
      "metadata": {
        "id": "KswOWHzF36Ll"
      },
      "outputs": [],
      "source": [
        " #CFLP multi-source tienda abiertas como parametro\n",
        "\n",
        "\n",
        "def CFLP_MS(tiendas, clientes, oferta, precioF, demanda, costoV, tiendasAbiertas):\n",
        "    ampl.reset()\n",
        "    ampl.eval(\"\"\"\n",
        "    # Sets\n",
        "    set Tiendas;\n",
        "    set Clientes;\n",
        "\n",
        "    # Variables\n",
        "    var demandaAsociada{Clientes, Tiendas} >= 0, <= 1;\n",
        "\n",
        "    # Parameters\n",
        "    param oferta{Tiendas};\n",
        "    param precioF{Tiendas};\n",
        "    param demanda{Clientes};\n",
        "    param costoV{Clientes, Tiendas};\n",
        "    param tiendaAbierta{Tiendas} binary;\n",
        "\n",
        "    # Objective Function\n",
        "    minimize CostoTotal:\n",
        "        sum{t in Tiendas} precioF[t] * tiendaAbierta[t] +\n",
        "        sum{c in Clientes, t in Tiendas} costoV[c, t] * demandaAsociada[c, t];\n",
        "\n",
        "    # Constraints\n",
        "    subject to satisfacerDemanda{c in Clientes}:\n",
        "        sum{t in Tiendas} demandaAsociada[c, t] = 1;  # Each customer is fully served\n",
        "\n",
        "    subject to ofertaDemanda{t in Tiendas}:\n",
        "        sum{c in Clientes} demanda[c] * demandaAsociada[c, t] <= oferta[t] * tiendaAbierta[t];\n",
        "\n",
        "    subject to asignarSiAbierta{c in Clientes, t in Tiendas}:\n",
        "        demandaAsociada[c, t] <= tiendaAbierta[t];\n",
        "    \"\"\")\n",
        "\n",
        "    # Assign parameters to AMPL\n",
        "    ampl.set['Tiendas'] = range(1, tiendas+1)\n",
        "    ampl.set['Clientes'] = range(1, clientes+1)\n",
        "\n",
        "    # Create a dictionary for `tiendaAbierta` to indicate open shops\n",
        "    ampl.param['tiendaAbierta'] = {t: tiendasAbiertas[t-1] for t in range(1, tiendas+1)}\n",
        "    ampl.param['oferta'] = {t: oferta[t-1] for t in range(1, tiendas+1)}\n",
        "    ampl.param['precioF'] = {t: precioF[t-1] for t in range(1, tiendas+1)}\n",
        "    ampl.param['demanda'] = {c: demanda[c-1] for c in range(1, clientes+1)}\n",
        "    ampl.param['costoV'] = {(c+1, t+1): costoV[c][t] for c in range(clientes) for t in range(tiendas)}\n",
        "\n",
        "    # Specify the solver\n",
        "    ampl.option['solver'] = 'gurobi'\n",
        "\n",
        "    # Solve the problem\n",
        "    ampl.solve()\n",
        "\n",
        "    # Display the solution\n",
        "    #ampl.display('tiendaAbierta')\n",
        "    #ampl.display('demandaAsociada')\n",
        "    #ampl.display('CostoTotal')\n",
        "    #ampl.display('oferta')\n",
        "    #ampl.display('demanda')\n",
        "    #ampl.display('costoV')\n",
        "\n",
        "    # Aviso solucion inviable\n",
        "    warnings = ampl.get_output(\"solve;\")\n",
        "    infeasible_constraints = []\n",
        "    # returns .1 if there is no viable solution\n",
        "    for line in warnings.split('\\n'):\n",
        "        if 'WARNING:' in line.upper():\n",
        "            print(\"AMPL Warning:\", line.strip())\n",
        "            return -1\n",
        "        if 'INFEASIBLE' in line.upper() or 'NO SOLUTION' in line.upper():\n",
        "            print(\"AMPL Error:\", line.strip())\n",
        "            return -1\n",
        "        if 'all variables eliminated' in line.lower() and '> 0' in line:\n",
        "            infeasible_constraints.append(line.strip())\n",
        "            return -1\n",
        "\n",
        "    return ampl.getValue('CostoTotal')\n"
      ]
    },
    {
      "cell_type": "code",
      "source": [],
      "metadata": {
        "id": "qMb2nVhYwqHr"
      },
      "execution_count": null,
      "outputs": []
    },
    {
      "cell_type": "markdown",
      "metadata": {
        "id": "gR8iBSLkbiXO"
      },
      "source": [
        "# Tabu search\n"
      ]
    },
    {
      "cell_type": "code",
      "execution_count": null,
      "metadata": {
        "id": "LnN_Gj6KobPC"
      },
      "outputs": [],
      "source": [
        "def tabuSearch(tiendas, clientes, oferta, precioF, demanda, costoV, tipo, maxIter):\n",
        "    # solucion inicial todas las tiendas abiertas\n",
        "    tiendasAbiertas = [1]*tiendas\n",
        "    demandaTotal = sum(demanda)\n",
        "    if evaluar(tiendas, clientes, oferta, precioF, demanda, costoV, tiendasAbiertas, tipo) == -1:\n",
        "        return \" No hay solucion\", \" No se encontro solucion\"\n",
        "\n",
        "    costo = evaluar(tiendas, clientes, oferta, precioF, demanda, costoV, tiendasAbiertas, tipo)\n",
        "    mejorCosto = costo\n",
        "    mejorSolucion = tiendasAbiertas.copy()\n",
        "\n",
        "    actualCosto = costo\n",
        "    actualSolucion = tiendasAbiertas.copy()\n",
        "\n",
        "    # Memoria a corto y largo plazo\n",
        "    tabuShort = [0]*tiendas\n",
        "    tabuLong = [0]*tiendas\n",
        "    # Lista de tabu ayuda a saber que elementos estan en la lista tabu\n",
        "    tabuList = []\n",
        "    for i in range(maxIter):\n",
        "        mejorVecino=None\n",
        "        costoVecino=float('inf')\n",
        "        indiceVecino=0\n",
        "        for j in range(tiendas):\n",
        "            if tabuShort[j] == 0:\n",
        "                tiendasAbiertas[j] = 1 - tiendasAbiertas[j]\n",
        "                costo = evaluar(tiendas, clientes, oferta, precioF, demanda, costoV, tiendasAbiertas, tipo)\n",
        "                if costo!=-1:\n",
        "                  if costo < costoVecino:\n",
        "                      costoVecino = costo\n",
        "                      mejorVecino = tiendasAbiertas.copy()\n",
        "                      indiceVecino=j\n",
        "                tiendasAbiertas[j] = 1 - tiendasAbiertas[j]\n",
        "        if costoVecino<mejorCosto:\n",
        "          mejorCosto=costoVecino\n",
        "          mejorSolucion=mejorVecino.copy()\n",
        "\n",
        "        if mejorVecino==None:\n",
        "          i=0\n",
        "          while tabuShort[i]>0:\n",
        "            i+=1\n",
        "            if i>=tiendas:\n",
        "              return mejorCosto, mejorSolucion\n",
        "\n",
        "          tiendasAbiertas[i] = 1 - tiendasAbiertas[i]\n",
        "          mejorVecino=tiendasAbiertas.copy()\n",
        "          costoVecino = evaluar(tiendas, clientes, oferta, precioF, demanda, costoV, tiendasAbiertas, tipo)\n",
        "          tabuLong[i] += 1\n",
        "          tabuShort[i] = 3*tabuLong[j]\n",
        "          tabuList.append(i)\n",
        "\n",
        "\n",
        "        tiendasAbiertas=mejorVecino.copy()\n",
        "        tabuLong[indiceVecino] += 1\n",
        "        tabuShort[indiceVecino] = 3*tabuLong[indiceVecino]\n",
        "        tabuList.append(indiceVecino)\n",
        "# Hay que arreglar esto\n",
        "        # if mejorSolucion == tiendasAbiertas:\n",
        "        #   i = random.randint(0, tiendas-1)\n",
        "        #   tiendasAbiertas[i] = 1 - tiendasAbiertas\n",
        "        #   mejorCosto = evaluar(tiendas, clientes, oferta, precioF, demanda, costoV, tiendasAbiertas, 2)\n",
        "        #   mejorSolucion = tiendasAbiertas.copy()\n",
        "        #   tabuLong[i] += 1\n",
        "        #   tabuShort[i] = 3*tabuLong[j]\n",
        "        #   tabuList.append(i)\n",
        "\n",
        "        for j in tabuList:\n",
        "            tabuShort[j] -= 1\n",
        "            if tabuShort[j] == 0:\n",
        "                tabuList.remove(j)\n",
        "    print(tabuShort)\n",
        "    print(tabuLong)\n",
        "    return mejorCosto, mejorSolucion"
      ]
    },
    {
      "cell_type": "code",
      "execution_count": null,
      "metadata": {
        "id": "OLzT844--O4e"
      },
      "outputs": [],
      "source": [
        "def ofertaTotal(oferta, tiendasAbiertas):\n",
        "    ofertaTotal = 0\n",
        "    for i in range(len(oferta)):\n",
        "        ofertaTotal += oferta[i]*tiendasAbiertas[i]\n",
        "    return ofertaTotal"
      ]
    },
    {
      "cell_type": "code",
      "source": [
        "def chavoDel8(tienda, cliente, oferta, precioF, demanda, costoV, tiendasAbiertas):\n",
        "    # Selecciona mejor vecino\n",
        "    mejorCosto = float('inf')\n",
        "    mejorSolucion = None\n",
        "    for i in range(tienda):\n",
        "        tiendasAbiertas[i] = 1 - tiendasAbiertas\n",
        "        costo = evaluar(tienda, cliente, oferta, precioF, demanda, costoV, tiendasAbiertas, 2)\n",
        "        if costo!=-1:\n",
        "          if costo < mejorCosto:\n",
        "              mejorCosto = costo\n",
        "              mejorSolucion = tiendasAbiertas.copy()\n",
        "        tiendasAbiertas[i] = 1 - tiendasAbiertas\n",
        "    if mejorSolucion == tiendasAbiertas:\n",
        "        i = random.randint(0, tienda-1)\n",
        "        tiendasAbiertas[i] = 1 - tiendasAbiertas\n",
        "        mejorCosto = evaluar(tienda, cliente, oferta, precioF, demanda, costoV, tiendasAbiertas, 2)\n",
        "        mejorSolucion = tiendasAbiertas.copy()\n",
        "\n",
        "    return mejorCosto, mejorSolucion"
      ],
      "metadata": {
        "id": "r6ljQp83y3I8"
      },
      "execution_count": null,
      "outputs": []
    },
    {
      "cell_type": "markdown",
      "metadata": {
        "id": "MlldIhjH29DC"
      },
      "source": [
        "# Main"
      ]
    },
    {
      "cell_type": "code",
      "execution_count": null,
      "metadata": {
        "colab": {
          "base_uri": "https://localhost:8080/",
          "height": 228
        },
        "collapsed": true,
        "id": "lzgO_sWaFzWO",
        "outputId": "1fd90f73-57cc-4977-a8a6-c82855bc2a27"
      },
      "outputs": [
        {
          "output_type": "stream",
          "name": "stdout",
          "text": [
            "Error al importar el archivo: [Errno 2] No such file or directory: '/content/cap43.txt'\n"
          ]
        },
        {
          "output_type": "error",
          "ename": "NameError",
          "evalue": "name 'tiendas' is not defined",
          "traceback": [
            "\u001b[0;31m---------------------------------------------------------------------------\u001b[0m",
            "\u001b[0;31mNameError\u001b[0m                                 Traceback (most recent call last)",
            "\u001b[0;32m<ipython-input-24-4a32382b1854>\u001b[0m in \u001b[0;36m<cell line: 12>\u001b[0;34m()\u001b[0m\n\u001b[1;32m     10\u001b[0m \u001b[0;31m#print(CFLP_MS_AMPL(tiendas, clientes, oferta, precioF, demanda, costoV))\u001b[0m\u001b[0;34m\u001b[0m\u001b[0;34m\u001b[0m\u001b[0m\n\u001b[1;32m     11\u001b[0m \u001b[0;31m#ite=tiendas+clientes\u001b[0m\u001b[0;34m\u001b[0m\u001b[0;34m\u001b[0m\u001b[0m\n\u001b[0;32m---> 12\u001b[0;31m \u001b[0mmC\u001b[0m\u001b[0;34m,\u001b[0m\u001b[0mmS\u001b[0m\u001b[0;34m=\u001b[0m\u001b[0mtabuSearch\u001b[0m\u001b[0;34m(\u001b[0m\u001b[0mtiendas\u001b[0m\u001b[0;34m,\u001b[0m \u001b[0mclientes\u001b[0m\u001b[0;34m,\u001b[0m \u001b[0moferta\u001b[0m\u001b[0;34m,\u001b[0m \u001b[0mprecioF\u001b[0m\u001b[0;34m,\u001b[0m \u001b[0mdemanda\u001b[0m\u001b[0;34m,\u001b[0m \u001b[0mcostoV\u001b[0m\u001b[0;34m,\u001b[0m \u001b[0;36m2\u001b[0m\u001b[0;34m,\u001b[0m \u001b[0;36m100\u001b[0m\u001b[0;34m)\u001b[0m\u001b[0;34m\u001b[0m\u001b[0;34m\u001b[0m\u001b[0m\n\u001b[0m\u001b[1;32m     13\u001b[0m \u001b[0mprint\u001b[0m\u001b[0;34m(\u001b[0m\u001b[0;34m\"Mejor Costo\\n\"\u001b[0m\u001b[0;34m+\u001b[0m\u001b[0mstr\u001b[0m\u001b[0;34m(\u001b[0m\u001b[0mmC\u001b[0m\u001b[0;34m)\u001b[0m\u001b[0;34m)\u001b[0m\u001b[0;34m\u001b[0m\u001b[0;34m\u001b[0m\u001b[0m\n\u001b[1;32m     14\u001b[0m \u001b[0mprint\u001b[0m\u001b[0;34m(\u001b[0m\u001b[0;34m\"Mejor Solucion\\n\"\u001b[0m\u001b[0;34m+\u001b[0m\u001b[0mstr\u001b[0m\u001b[0;34m(\u001b[0m\u001b[0mmS\u001b[0m\u001b[0;34m)\u001b[0m\u001b[0;34m)\u001b[0m\u001b[0;34m\u001b[0m\u001b[0;34m\u001b[0m\u001b[0m\n",
            "\u001b[0;31mNameError\u001b[0m: name 'tiendas' is not defined"
          ]
        }
      ],
      "source": [
        "from typing import Type\n",
        "ruta = r\"/content/cap43.txt\"\n",
        "try:\n",
        "    tiendas, clientes, oferta, precioF, demanda, costoV = importarArchivo(ruta)\n",
        "except Exception as e:\n",
        "    print(f\"Error al importar el archivo: {str(e)}\")\n",
        "#tiendasAbiertas=[0]*tiendas\n",
        "#costoAux=formatoCostoV(costoV,clientes,tiendas)\n",
        "#CFLP_1S_AMPL(tiendas, clientes, oferta, precioF, demanda, costoAux)\n",
        "#print(CFLP_MS_AMPL(tiendas, clientes, oferta, precioF, demanda, costoV))\n",
        "#ite=tiendas+clientes\n",
        "mC,mS=tabuSearch(tiendas, clientes, oferta, precioF, demanda, costoV, 2, 100)\n",
        "print(\"Mejor Costo\\n\"+str(mC))\n",
        "print(\"Mejor Solucion\\n\"+str(mS))"
      ]
    }
  ],
  "metadata": {
    "colab": {
      "provenance": [],
      "include_colab_link": true
    },
    "kernelspec": {
      "display_name": "Python 3",
      "name": "python3"
    },
    "language_info": {
      "name": "python"
    }
  },
  "nbformat": 4,
  "nbformat_minor": 0
}